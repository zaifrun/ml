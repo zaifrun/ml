{
 "cells": [
  {
   "cell_type": "markdown",
   "metadata": {},
   "source": [
    "# A first example of using TensorFlow"
   ]
  },
  {
   "cell_type": "markdown",
   "metadata": {},
   "source": [
    "First we need to import Tensorflow. \n",
    "Make sure it is installed (with \"pip -install tensorflow\") "
   ]
  },
  {
   "cell_type": "code",
   "execution_count": null,
   "metadata": {},
   "outputs": [
    {
     "name": "stdout",
     "output_type": "stream",
     "text": [
      "Tensorflow version 1.4.0\n"
     ]
    }
   ],
   "source": [
    "import tensorflow as tf\n",
    "import matplotlib.pyplot as plt\n",
    "#print the version and make sure everything works.\n",
    "print (\"Tensorflow version \"+str(tf.__version__))"
   ]
  },
  {
   "cell_type": "markdown",
   "metadata": {},
   "source": [
    "Let us try to do something simple and just use Tensorflow as a calculator!"
   ]
  },
  {
   "cell_type": "code",
   "execution_count": null,
   "metadata": {},
   "outputs": [],
   "source": [
    "#define two variables and initialize them to 3 and 4.\n",
    "x = tf.Variable(3,name=\"x\")\n",
    "y = tf.Variable(4,name=\"y\")\n",
    "#define a function\n",
    "f = x*x*y+y+2\n",
    "\n",
    "init = tf.global_variables_initializer()\n",
    "session = tf.InteractiveSession()\n",
    "init.run()\n",
    "result = f.eval()\n",
    "\n",
    "print(\"result: \"+str(result))  # should give 42 - the answer to everything"
   ]
  },
  {
   "cell_type": "markdown",
   "metadata": {},
   "source": [
    "Okay, let's do something more advanced - regression. \n",
    "Finding the best linear model to fit our data."
   ]
  },
  {
   "cell_type": "code",
   "execution_count": null,
   "metadata": {},
   "outputs": [],
   "source": [
    "# Model parameters - initialize to something\n",
    "a = tf.Variable([.3], dtype=tf.float32)\n",
    "b = tf.Variable([-.3], dtype=tf.float32)\n",
    "# Model input and output - x will be our input\n",
    "x = tf.placeholder(tf.float32)\n",
    "linear_model = a*x + b   # the model we are trying to find the best value of a and b for our data\n",
    "# y will be our output\n",
    "y = tf.placeholder(tf.float32)\n",
    "\n",
    "#define the loss function we want to minimize - i.e. make the error as small as possible while training\n",
    "loss = tf.reduce_sum(tf.square(linear_model - y)) # sum of the squares of the difference\n",
    "# optimizer - use gradient descent optimizer\n",
    "optimizer = tf.train.GradientDescentOptimizer(0.01) \n",
    "train = optimizer.minimize(loss)"
   ]
  },
  {
   "cell_type": "markdown",
   "metadata": {},
   "source": [
    "Now we are ready to feed some data into the training model"
   ]
  },
  {
   "cell_type": "code",
   "execution_count": null,
   "metadata": {},
   "outputs": [],
   "source": [
    "# training data - - in this example they fit perfectly to the model : y = -1 * x + 1 (a straigth line)\n",
    "# so we should in an optimal training situation be able to achieve an error of 0 in theory.\n",
    "x_train = [1, 2, 3, 4]\n",
    "y_train = [0, -1, -2, -3]\n",
    "# training init\n",
    "init = tf.global_variables_initializer()\n",
    "sess = tf.Session()\n",
    "sess.run(init) # set values to our initialials\n",
    "\n",
    "#let us just plot the input data to see how the points look like\n",
    "plt.figure() # creating a new figure\n",
    "plt.scatter(x_train, y_train, color='black', s=20)  # pl"
   ]
  },
  {
   "cell_type": "markdown",
   "metadata": {},
   "source": [
    "As we expect the training data should lie on a straight linefollowing the line\n",
    "defined as y = -1*x +1.\n",
    "Now everything is initialized and we are ready to train our model - we will also save some data for each training iteration,  in order to see any improvements"
   ]
  },
  {
   "cell_type": "code",
   "execution_count": null,
   "metadata": {},
   "outputs": [],
   "source": [
    "#the error - which should decrease\n",
    "error = []\n",
    "# the slope (a value)\n",
    "slope = []\n",
    "#constant - b value\n",
    "bvalue = []\n",
    "# training - 1000 iterations\n",
    "for i in range(1000):\n",
    "    sess.run(train, {x: x_train, y: y_train}) # train using our data - and minimize the loss function\n",
    "    curr_a, curr_b, curr_loss = sess.run([a, b, loss], {x: x_train, y: y_train})\n",
    "    error.append(curr_loss)\n",
    "    slope.append(curr_a)\n",
    "    bvalue.append(curr_b)\n"
   ]
  },
  {
   "cell_type": "markdown",
   "metadata": {},
   "source": [
    "Now we can print the result of each training iteration in a graph. Notice how the a and b value converge to what we expected and also note how the error approaches 0."
   ]
  },
  {
   "cell_type": "code",
   "execution_count": null,
   "metadata": {},
   "outputs": [],
   "source": [
    "print(\"W: %s b: %s loss: %s\"%(curr_a, curr_b, curr_loss))\n",
    "session.close()\n",
    "plt.plot(error,label='Error')\n",
    "plt.plot(slope,label='Slope,a ')\n",
    "plt.plot(bvalue,label='constant,b')\n",
    "plt.legend()\n",
    "plt.title(\"Tensorflow training to match data to the linear model of y = -1*x + 1\")\n",
    "plt.xlabel(\"Training iteration\")\n",
    "plt.show()"
   ]
  }
 ],
 "metadata": {
  "kernelspec": {
   "display_name": "Python 3",
   "language": "python",
   "name": "python3"
  },
  "language_info": {
   "codemirror_mode": {
    "name": "ipython",
    "version": 3
   },
   "file_extension": ".py",
   "mimetype": "text/x-python",
   "name": "python",
   "nbconvert_exporter": "python",
   "pygments_lexer": "ipython3",
   "version": "3.6.1"
  }
 },
 "nbformat": 4,
 "nbformat_minor": 2
}
