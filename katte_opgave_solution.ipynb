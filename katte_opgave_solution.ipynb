{
 "cells": [
  {
   "cell_type": "code",
   "execution_count": 1,
   "id": "e3db9aed",
   "metadata": {},
   "outputs": [
    {
     "name": "stdout",
     "output_type": "stream",
     "text": [
      "score 0.9063390461497955\n",
      " a = 111.12087912087915\n",
      " b = 299.6153846153845\n",
      "predicted value for 15 (28/10) = [1966.42857143]\n",
      "x værdi for y = 3500 gram i uge nummer 28.800929588607584\n"
     ]
    },
    {
     "data": {
      "image/png": "[encoded data removed]",
      "text/plain": [
       "<Figure size 432x288 with 1 Axes>"
      ]
     },
     "metadata": {
      "needs_background": "light"
     },
     "output_type": "display_data"
    }
   ],
   "source": [
    "import matplotlib.pyplot as plt\n",
    "import numpy as np\n",
    "from sklearn.linear_model import LinearRegression\n",
    "\n",
    "# Du kan finde dokumentation for pyplot her: https://matplotlib.org/3.1.1/api/_as_gen/matplotlib.pyplot.html\n",
    "\n",
    "\n",
    "X = np.array([1,2,3,4,5,6,7,8,9,10,11,12,13])\n",
    "Y = np.array([550,710,730,710,685,740,880,1155,1207,1425,1575,1750,1890])\n",
    "\n",
    "\n",
    "plt.plot(X,Y, \"b.\")  # hvad betyder \"b.\" ? Se dokumentationen for plot i pyplot linket ovenover\n",
    "#plt.axis([0,2,0,15])  # betyder parameterne her?\n",
    "\n",
    "#training the model\n",
    "lin_reg = LinearRegression()\n",
    "lin_reg.fit(X.reshape(-1,1),Y)   # train the model on the data\n",
    "\n",
    "#calculating the score\n",
    "score = lin_reg.score(X.reshape(-1,1), Y)\n",
    "print(\"score \"+str(score))\n",
    "\n",
    "#get parameters\n",
    "a = lin_reg.coef_[0]\n",
    "b = lin_reg.intercept_\n",
    "print(\" a = \"+str(a))\n",
    "print(\" b = \"+str(b))\n",
    "X_predict = np.array([15])  # put the dates of which you want to predict kwh here\n",
    "\n",
    "y_predict = lin_reg.predict(X_predict.reshape(-1,1))\n",
    "print(\"predicted value for 15 (28/10) = \"+str(y_predict))\n",
    "\n",
    "\n",
    "# y = a * x + b)\n",
    "# dvs x = (y-b) / a\n",
    "\n",
    "x_3500 = (3500-b) / a\n",
    "\n",
    "print(\"x værdi for y = 3500 gram i uge nummer \"+str(x_3500))\n",
    "# bliver i uge 29 - dvs. 3. februar 2021...\n",
    "\n",
    "#plot the best line.\n",
    "line_x = np.linspace(0,15,100)\n",
    "line_y = a * line_x + b\n",
    "plt.plot(line_x, line_y, '-r', label='best line')\n",
    "\n",
    "\n",
    "plt.plot()\n",
    "plt.show()"
   ]
  },
  {
   "cell_type": "code",
   "execution_count": null,
   "id": "c3f95ecb",
   "metadata": {},
   "outputs": [],
   "source": []
  }
 ],
 "metadata": {
  "kernelspec": {
   "display_name": "Python 3 (ipykernel)",
   "language": "python",
   "name": "python3"
  },
  "language_info": {
   "codemirror_mode": {
    "name": "ipython",
    "version": 3
   },
   "file_extension": ".py",
   "mimetype": "text/x-python",
   "name": "python",
   "nbconvert_exporter": "python",
   "pygments_lexer": "ipython3",
   "version": "3.9.5"
  }
 },
 "nbformat": 4,
 "nbformat_minor": 5
}
