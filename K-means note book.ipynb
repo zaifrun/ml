{
 "cells": [
  {
   "cell_type": "markdown",
   "metadata": {},
   "source": [
    "## This is a tutorial on how to get started with K-Means - Unsupervised"
   ]
  },
  {
   "cell_type": "markdown",
   "metadata": {},
   "source": [
    "First you need to import the <b> relevant </b> libraries that we will use for this project"
   ]
  },
  {
   "cell_type": "code",
   "execution_count": 1,
   "metadata": {},
   "outputs": [],
   "source": [
    "from sklearn.cluster import KMeans # This will be used for the algorithm\n",
    "\n",
    "import matplotlib.pyplot as plt  # This will be use to plot the data\n",
    "from sklearn import datasets   # This will be used to get a sample dataset - just to have some data"
   ]
  },
  {
   "cell_type": "markdown",
   "metadata": {},
   "source": [
    "Now we can import some data to play around with and show them"
   ]
  },
  {
   "cell_type": "code",
   "execution_count": 2,
   "metadata": {},
   "outputs": [
    {
     "name": "stdout",
     "output_type": "stream",
     "text": [
      "[[ 5.1  3.5]\n",
      " [ 4.9  3. ]\n",
      " [ 4.7  3.2]\n",
      " [ 4.6  3.1]\n",
      " [ 5.   3.6]\n",
      " [ 5.4  3.9]\n",
      " [ 4.6  3.4]\n",
      " [ 5.   3.4]\n",
      " [ 4.4  2.9]\n",
      " [ 4.9  3.1]\n",
      " [ 5.4  3.7]\n",
      " [ 4.8  3.4]\n",
      " [ 4.8  3. ]\n",
      " [ 4.3  3. ]\n",
      " [ 5.8  4. ]\n",
      " [ 5.7  4.4]\n",
      " [ 5.4  3.9]\n",
      " [ 5.1  3.5]\n",
      " [ 5.7  3.8]\n",
      " [ 5.1  3.8]\n",
      " [ 5.4  3.4]\n",
      " [ 5.1  3.7]\n",
      " [ 4.6  3.6]\n",
      " [ 5.1  3.3]\n",
      " [ 4.8  3.4]\n",
      " [ 5.   3. ]\n",
      " [ 5.   3.4]\n",
      " [ 5.2  3.5]\n",
      " [ 5.2  3.4]\n",
      " [ 4.7  3.2]\n",
      " [ 4.8  3.1]\n",
      " [ 5.4  3.4]\n",
      " [ 5.2  4.1]\n",
      " [ 5.5  4.2]\n",
      " [ 4.9  3.1]\n",
      " [ 5.   3.2]\n",
      " [ 5.5  3.5]\n",
      " [ 4.9  3.1]\n",
      " [ 4.4  3. ]\n",
      " [ 5.1  3.4]\n",
      " [ 5.   3.5]\n",
      " [ 4.5  2.3]\n",
      " [ 4.4  3.2]\n",
      " [ 5.   3.5]\n",
      " [ 5.1  3.8]\n",
      " [ 4.8  3. ]\n",
      " [ 5.1  3.8]\n",
      " [ 4.6  3.2]\n",
      " [ 5.3  3.7]\n",
      " [ 5.   3.3]\n",
      " [ 7.   3.2]\n",
      " [ 6.4  3.2]\n",
      " [ 6.9  3.1]\n",
      " [ 5.5  2.3]\n",
      " [ 6.5  2.8]\n",
      " [ 5.7  2.8]\n",
      " [ 6.3  3.3]\n",
      " [ 4.9  2.4]\n",
      " [ 6.6  2.9]\n",
      " [ 5.2  2.7]\n",
      " [ 5.   2. ]\n",
      " [ 5.9  3. ]\n",
      " [ 6.   2.2]\n",
      " [ 6.1  2.9]\n",
      " [ 5.6  2.9]\n",
      " [ 6.7  3.1]\n",
      " [ 5.6  3. ]\n",
      " [ 5.8  2.7]\n",
      " [ 6.2  2.2]\n",
      " [ 5.6  2.5]\n",
      " [ 5.9  3.2]\n",
      " [ 6.1  2.8]\n",
      " [ 6.3  2.5]\n",
      " [ 6.1  2.8]\n",
      " [ 6.4  2.9]\n",
      " [ 6.6  3. ]\n",
      " [ 6.8  2.8]\n",
      " [ 6.7  3. ]\n",
      " [ 6.   2.9]\n",
      " [ 5.7  2.6]\n",
      " [ 5.5  2.4]\n",
      " [ 5.5  2.4]\n",
      " [ 5.8  2.7]\n",
      " [ 6.   2.7]\n",
      " [ 5.4  3. ]\n",
      " [ 6.   3.4]\n",
      " [ 6.7  3.1]\n",
      " [ 6.3  2.3]\n",
      " [ 5.6  3. ]\n",
      " [ 5.5  2.5]\n",
      " [ 5.5  2.6]\n",
      " [ 6.1  3. ]\n",
      " [ 5.8  2.6]\n",
      " [ 5.   2.3]\n",
      " [ 5.6  2.7]\n",
      " [ 5.7  3. ]\n",
      " [ 5.7  2.9]\n",
      " [ 6.2  2.9]\n",
      " [ 5.1  2.5]\n",
      " [ 5.7  2.8]\n",
      " [ 6.3  3.3]\n",
      " [ 5.8  2.7]\n",
      " [ 7.1  3. ]\n",
      " [ 6.3  2.9]\n",
      " [ 6.5  3. ]\n",
      " [ 7.6  3. ]\n",
      " [ 4.9  2.5]\n",
      " [ 7.3  2.9]\n",
      " [ 6.7  2.5]\n",
      " [ 7.2  3.6]\n",
      " [ 6.5  3.2]\n",
      " [ 6.4  2.7]\n",
      " [ 6.8  3. ]\n",
      " [ 5.7  2.5]\n",
      " [ 5.8  2.8]\n",
      " [ 6.4  3.2]\n",
      " [ 6.5  3. ]\n",
      " [ 7.7  3.8]\n",
      " [ 7.7  2.6]\n",
      " [ 6.   2.2]\n",
      " [ 6.9  3.2]\n",
      " [ 5.6  2.8]\n",
      " [ 7.7  2.8]\n",
      " [ 6.3  2.7]\n",
      " [ 6.7  3.3]\n",
      " [ 7.2  3.2]\n",
      " [ 6.2  2.8]\n",
      " [ 6.1  3. ]\n",
      " [ 6.4  2.8]\n",
      " [ 7.2  3. ]\n",
      " [ 7.4  2.8]\n",
      " [ 7.9  3.8]\n",
      " [ 6.4  2.8]\n",
      " [ 6.3  2.8]\n",
      " [ 6.1  2.6]\n",
      " [ 7.7  3. ]\n",
      " [ 6.3  3.4]\n",
      " [ 6.4  3.1]\n",
      " [ 6.   3. ]\n",
      " [ 6.9  3.1]\n",
      " [ 6.7  3.1]\n",
      " [ 6.9  3.1]\n",
      " [ 5.8  2.7]\n",
      " [ 6.8  3.2]\n",
      " [ 6.7  3.3]\n",
      " [ 6.7  3. ]\n",
      " [ 6.3  2.5]\n",
      " [ 6.5  3. ]\n",
      " [ 6.2  3.4]\n",
      " [ 5.9  3. ]]\n"
     ]
    }
   ],
   "source": [
    "iris = datasets.load_iris()\n",
    "\n",
    "# we only take the first two features. We could avoid this ugly\n",
    "# slicing by using a real two-dim dataset\n",
    "# the iris-data is a multidimensional data so we slice the first \n",
    "X = iris.data[:, :2]  \n",
    "# Taking the first two columns - notation array[x,y] gives you the x-th row and the y-column\n",
    "# if you want all values on the row i.e. an entire column use array[:,columnNr]\n",
    "print(X) # just to print the data so we can see what we are dealing with"
   ]
  },
  {
   "cell_type": "markdown",
   "metadata": {},
   "source": [
    "Okay, so let us just try to plot this data to see how it looks before we start working on it"
   ]
  },
  {
   "cell_type": "code",
   "execution_count": 3,
   "metadata": {},
   "outputs": [
    {
     "data": {
      "text/plain": [
       "<matplotlib.collections.PathCollection at 0x1c7197069b0>"
      ]
     },
     "execution_count": 3,
     "metadata": {},
     "output_type": "execute_result"
    },
    {
     "data": {
      "image/png": "[encoded data removed]",
      "text/plain": [
       "<matplotlib.figure.Figure at 0x1c719205240>"
      ]
     },
     "metadata": {},
     "output_type": "display_data"
    }
   ],
   "source": [
    "plt.figure() # creating a new figure\n",
    "plt.scatter(X[:, 0], X[:, 1], color='black', s=20)  # plot x,y values using the color black and size = 20"
   ]
  },
  {
   "cell_type": "markdown",
   "metadata": {},
   "source": [
    "So we see we have some more or less random 2D data. Now let us to try to group the data (cluster):"
   ]
  },
  {
   "cell_type": "code",
   "execution_count": 4,
   "metadata": {},
   "outputs": [
    {
     "name": "stdout",
     "output_type": "stream",
     "text": [
      "[[ 5.22409639  3.1253012 ]\n",
      " [ 6.61044776  2.96567164]]\n"
     ]
    }
   ],
   "source": [
    "k = 2 \n",
    "#running kmeans clustering into two\n",
    "kmeans = KMeans(n_clusters=k, random_state=0).fit(X)  \n",
    "# the random state is optionlly, here it is specified so we get determistic clusters.\n",
    "# this will contain the labels for our predicted clusters (either 0 or 1)   \n",
    "labels = kmeans.labels_\n",
    "# the centers of the calculated clusters\n",
    "clusters = kmeans.cluster_centers_\n",
    "# printing our cluster centers - there will be 2 of them.\n",
    "print(clusters) "
   ]
  },
  {
   "cell_type": "markdown",
   "metadata": {},
   "source": [
    "The above numbers show the two points (x and y of both) of the two cluster centers. \n"
   ]
  },
  {
   "cell_type": "markdown",
   "metadata": {},
   "source": [
    "Now we will try to define some colors and print the clustering - for k = 2"
   ]
  },
  {
   "cell_type": "code",
   "execution_count": 5,
   "metadata": {},
   "outputs": [
    {
     "data": {
      "text/plain": [
       "<matplotlib.collections.PathCollection at 0x1c719c0a860>"
      ]
     },
     "execution_count": 5,
     "metadata": {},
     "output_type": "execute_result"
    },
    {
     "data": {
      "image/png": "[encoded data removed]",
      "text/plain": [
       "<matplotlib.figure.Figure at 0x1c71922d320>"
      ]
     },
     "metadata": {},
     "output_type": "display_data"
    }
   ],
   "source": [
    "# need a new import\n",
    "from matplotlib.colors import ListedColormap\n",
    "\n",
    "# we define color lists to use with K values from 2 till 5\n",
    "# the color values are simply RGB values, so the colormap for k = 2, will give red ($FF0000) and green ($00FF00) colors\n",
    "cmap_bold = [ListedColormap(['#FF0000', '#00FF00']),\n",
    "             ListedColormap(['#FF0000', '#00FF00', '#0000FF']),\n",
    "             ListedColormap(['#FF0000', '#00FF00', '#0000FF', '#FFFF00']),\n",
    "             ListedColormap(['#FF0000', '#00FF00', '#0000FF', '#FFFF00','#00FFFF'])]\n",
    "\n",
    "# now plot the same points, but this time assigning the colors to indicate the clusters\n",
    "\n",
    "plt.scatter(X[:, 0], X[:, 1], c=labels, edgecolor='black', cmap=cmap_bold[0], s=20)\n",
    "\n",
    "\n"
   ]
  },
  {
   "cell_type": "markdown",
   "metadata": {},
   "source": [
    "The important thing is that we could now <b> predict <b> which cluster a new point should belong to. \n",
    "Let's take the point (6,4) which we might expect to belong to the red cluster and (6,2) which should probably belong to the green cluster (look at the graph to verify this):"
   ]
  },
  {
   "cell_type": "code",
   "execution_count": 6,
   "metadata": {},
   "outputs": [
    {
     "name": "stdout",
     "output_type": "stream",
     "text": [
      "[0 1]\n"
     ]
    }
   ],
   "source": [
    "print(kmeans.predict([[6, 4], [6, 2]]))\n"
   ]
  },
  {
   "cell_type": "markdown",
   "metadata": {},
   "source": [
    "This is what we expected. 0 indicates the first cluster (red - numbering of clusters start at 0), 1 indicates that the second point belongs to the second cluster (green).\n",
    "So based on previous data, we have learned to how to cluster previously unseen new data."
   ]
  },
  {
   "cell_type": "markdown",
   "metadata": {},
   "source": [
    "We can of course also decide we want more than 2 clusters - here you can see the code for k = 4 and the corresponding plot"
   ]
  },
  {
   "cell_type": "code",
   "execution_count": 7,
   "metadata": {},
   "outputs": [
    {
     "data": {
      "text/plain": [
       "<matplotlib.collections.PathCollection at 0x1c719cb0048>"
      ]
     },
     "execution_count": 7,
     "metadata": {},
     "output_type": "execute_result"
    },
    {
     "data": {
      "image/png": "[encoded data removed]",
      "text/plain": [
       "<matplotlib.figure.Figure at 0x1c719718a58>"
      ]
     },
     "metadata": {},
     "output_type": "display_data"
    }
   ],
   "source": [
    "k = 4 \n",
    "#running kmeans clustering into 4\n",
    "kmeans = KMeans(n_clusters=k, random_state=0).fit(X)\n",
    "# this will contain the labels for our predicted clusters (either 0,1,2, or 3)   \n",
    "labels = kmeans.labels_\n",
    "#using the color map with index 2 - which has 4 colors if you go back in the coode\n",
    "plt.scatter(X[:, 0], X[:, 1], c=labels, edgecolor='black', cmap=cmap_bold[2], s=20)\n"
   ]
  }
 ],
 "metadata": {
  "kernelspec": {
   "display_name": "Python 3",
   "language": "python",
   "name": "python3"
  },
  "language_info": {
   "codemirror_mode": {
    "name": "ipython",
    "version": 3
   },
   "file_extension": ".py",
   "mimetype": "text/x-python",
   "name": "python",
   "nbconvert_exporter": "python",
   "pygments_lexer": "ipython3",
   "version": "3.6.1"
  }
 },
 "nbformat": 4,
 "nbformat_minor": 2
}
