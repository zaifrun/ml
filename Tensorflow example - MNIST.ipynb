{
 "cells": [
  {
   "cell_type": "markdown",
   "metadata": {},
   "source": [
    "# This notebook shows how to use Tensorflow to train on the MNIST dataset using a neural network."
   ]
  },
  {
   "cell_type": "markdown",
   "metadata": {},
   "source": [
    "In this example we will load the MNIST dataset (this is a labelled dataset), then setup a neural network with 3 hidden layers to train on this data"
   ]
  },
  {
   "cell_type": "code",
   "execution_count": 1,
   "metadata": {},
   "outputs": [],
   "source": [
    "import tensorflow as tf\n",
    "import matplotlib.pyplot as plt"
   ]
  },
  {
   "cell_type": "markdown",
   "metadata": {},
   "source": [
    "After importing Tensorflow we define some helper methods we can then reuse in other projects maybe - after checking tensorflow is working"
   ]
  },
  {
   "cell_type": "code",
   "execution_count": 2,
   "metadata": {},
   "outputs": [
    {
     "name": "stdout",
     "output_type": "stream",
     "text": [
      "Tensorflow version 1.4.0\n"
     ]
    }
   ],
   "source": [
    "print (\"Tensorflow version \"+str(tf.__version__))"
   ]
  },
  {
   "cell_type": "code",
   "execution_count": 3,
   "metadata": {},
   "outputs": [],
   "source": [
    "def neural_network_model(inputdata):\n",
    "    # we use an input layer of 784 because the MNIST dataset are images of\n",
    "    hidden_1_layer = {'weights':tf.Variable(tf.random_normal([784, n_nodes_hl1])),\n",
    "                      'biases':tf.Variable(tf.random_normal([n_nodes_hl1]))}\n",
    "\n",
    "    hidden_2_layer = {'weights':tf.Variable(tf.random_normal([n_nodes_hl1, n_nodes_hl2])),\n",
    "                      'biases':tf.Variable(tf.random_normal([n_nodes_hl2]))}\n",
    "\n",
    "    hidden_3_layer = {'weights':tf.Variable(tf.random_normal([n_nodes_hl2, n_nodes_hl3])),\n",
    "                      'biases':tf.Variable(tf.random_normal([n_nodes_hl3]))}\n",
    "\n",
    "    output_layer = {'weights':tf.Variable(tf.random_normal([n_nodes_hl3, n_classes])),\n",
    "                    'biases':tf.Variable(tf.random_normal([n_classes]))}\n",
    "    \n",
    "    # connecting the input data to the first hidden layer\n",
    "    l1 = tf.add(tf.matmul(inputdata, hidden_1_layer['weights']), hidden_1_layer['biases'])\n",
    "    #using the RELU activation function\n",
    "    l1 = tf.nn.relu(l1)\n",
    "\n",
    "    # connecting the first hidden layer to the second layer \n",
    "    l2 = tf.add(tf.matmul(l1, hidden_2_layer['weights']), hidden_2_layer['biases'])\n",
    "    l2 = tf.nn.relu(l2)\n",
    "\n",
    "    #connecting the second hidden layer to the third hidden layer\n",
    "    l3 = tf.add(tf.matmul(l2, hidden_3_layer['weights']), hidden_3_layer['biases'])\n",
    "    l3 = tf.nn.relu(l3)\n",
    "\n",
    "    # connecting the third hidden layer to the output layer\n",
    "    output = tf.matmul(l3, output_layer['weights']) + output_layer['biases']\n",
    "\n",
    "    return output"
   ]
  },
  {
   "cell_type": "markdown",
   "metadata": {},
   "source": [
    "We also need another helper function for doing the actual training of the network. "
   ]
  },
  {
   "cell_type": "code",
   "execution_count": 4,
   "metadata": {},
   "outputs": [],
   "source": [
    "# x represents the input - in this case it is just a placeholder for the data, which will be loaded later inside this method\n",
    "def train_neural_network(x):\n",
    "    #use the input data to initialize the model to make our predictor\n",
    "    model = neural_network_model(x)\n",
    "    #This is the error function that we try to optimize\n",
    "    cost = tf.reduce_mean(tf.nn.softmax_cross_entropy_with_logits(logits=model, labels=y))\n",
    "    #This is the optimizing method we are using - you could user others such as gradient descent.\n",
    "    optimizer = tf.train.AdamOptimizer().minimize(cost)\n",
    "\n",
    "    with tf.Session() as sess:\n",
    "       # initialize the tensorflow network.\n",
    "        sess.run(tf.global_variables_initializer())\n",
    "\n",
    "        for epoch in range(hm_epochs):\n",
    "            epoch_loss = 0\n",
    "            # how many iterations should we do in this iteration\n",
    "            for iter in range(int(mnist.train.num_examples / batch_size)):\n",
    "                # get the X data and Y laebls from the MNIST dataset\n",
    "                epoch_x, epoch_y = mnist.train.next_batch(batch_size)\n",
    "                #use this data to run the network through our model using our optimizeer\n",
    "                # and our cost function with our x and y data from MNIST\n",
    "                iter, c = sess.run([optimizer, cost], feed_dict={x: epoch_x, y: epoch_y})\n",
    "                #add the error to the total error for this epoch\n",
    "                epoch_loss += c\n",
    "\n",
    "            print('Epoch', epoch, 'completed out of', hm_epochs, 'loss:', epoch_loss)\n",
    "            error.append(epoch_loss)\n",
    "\n",
    "\n",
    "        #training done - evalute on test test - how many did we correctly identify\n",
    "        correct = tf.equal(tf.argmax(model, 1), tf.argmax(y, 1))\n",
    "\n",
    "        accuracy = tf.reduce_mean(tf.cast(correct, 'float'))\n",
    "       #evaluate the accurary on the MNIST TEST dataset - so this is a different dataset than\n",
    "       # the training dataset\n",
    "        print('Accuracy:', accuracy.eval({x: mnist.test.images, y: mnist.test.labels}))\n"
   ]
  },
  {
   "cell_type": "markdown",
   "metadata": {},
   "source": [
    "Now after defining the helper methods we can define the main program"
   ]
  },
  {
   "cell_type": "code",
   "execution_count": null,
   "metadata": {},
   "outputs": [
    {
     "name": "stdout",
     "output_type": "stream",
     "text": [
      "Extracting MNIST_data/train-images-idx3-ubyte.gz\n",
      "Extracting MNIST_data/train-labels-idx1-ubyte.gz\n",
      "Extracting MNIST_data/t10k-images-idx3-ubyte.gz\n",
      "Extracting MNIST_data/t10k-labels-idx1-ubyte.gz\n",
      "<tensorflow.contrib.learn.python.learn.datasets.mnist.DataSet object at 0x000001BF377F3B70>\n"
     ]
    }
   ],
   "source": [
    "from tensorflow.examples.tutorials.mnist import input_data ## load input data\n",
    "#loading the mnist data, that we then use inside the helper methods\n",
    "mnist = input_data.read_data_sets(\"MNIST_data/\", one_hot = True)\n",
    "print(mnist.train)\n",
    "\n",
    "#for saving the errors for each epoch - for printing.\n",
    "error = []\n",
    "\n",
    "#the following constants are used inside the helper methods, but are defined here.\n",
    "#Number of nodes in hidden layer 1\n",
    "n_nodes_hl1 = 500\n",
    "#Number of nodes in hidden layer 2\n",
    "n_nodes_hl2 = 500\n",
    "#Number of nodes in hidden layer 3\n",
    "n_nodes_hl3 = 500\n",
    "#how many output neurons should we have (10 because there are 10 digits : 0...9)\n",
    "n_classes = 10\n",
    "#batch size\n",
    "batch_size = 100\n",
    "#nr of epocs\n",
    "hm_epochs = 100 # number of training iterations\n"
   ]
  },
  {
   "cell_type": "raw",
   "metadata": {},
   "source": [
    "Now that the initial setup is over, we can call our helper methods"
   ]
  },
  {
   "cell_type": "code",
   "execution_count": null,
   "metadata": {},
   "outputs": [
    {
     "name": "stdout",
     "output_type": "stream",
     "text": [
      "Epoch 0 completed out of 100 loss: 1722105.52637\n",
      "Epoch 1 completed out of 100 loss: 408806.763538\n",
      "Epoch 2 completed out of 100 loss: 227954.821389\n",
      "Epoch 3 completed out of 100 loss: 135786.893559\n",
      "Epoch 4 completed out of 100 loss: 79911.6253188\n",
      "Epoch 5 completed out of 100 loss: 52026.8160161\n",
      "Epoch 6 completed out of 100 loss: 33162.7436357\n",
      "Epoch 7 completed out of 100 loss: 25291.152596\n",
      "Epoch 8 completed out of 100 loss: 23264.142805\n",
      "Epoch 9 completed out of 100 loss: 17977.986512\n",
      "Epoch 10 completed out of 100 loss: 15915.0889546\n",
      "Epoch 11 completed out of 100 loss: 19109.7621653\n",
      "Epoch 12 completed out of 100 loss: 16271.7550947\n",
      "Epoch 13 completed out of 100 loss: 13643.7280971\n",
      "Epoch 14 completed out of 100 loss: 14162.7362402\n",
      "Epoch 15 completed out of 100 loss: 14831.9497631\n",
      "Epoch 16 completed out of 100 loss: 11917.2014364\n"
     ]
    }
   ],
   "source": [
    "\n",
    "# the placeholder for the input - we have a single float array of 784 = 28x28 which is the resolution of our images\n",
    "x = tf.placeholder('float', [None, 784])\n",
    "# The output should just be a single value - i.e. the predicted number\n",
    "y = tf.placeholder('float')\n",
    "\n",
    "#calling our helper training function\n",
    "train_neural_network(x)\n",
    "\n",
    "#plotting our error\n",
    "plt.plot(error,label='Error')\n",
    "plt.legend()\n",
    "plt.title(\"Tensorflow training on MNIST\")\n",
    "plt.xlabel(\"Training iteration\")\n",
    "plt.show()"
   ]
  }
 ],
 "metadata": {
  "kernelspec": {
   "display_name": "Python 3",
   "language": "python",
   "name": "python3"
  },
  "language_info": {
   "codemirror_mode": {
    "name": "ipython",
    "version": 3
   },
   "file_extension": ".py",
   "mimetype": "text/x-python",
   "name": "python",
   "nbconvert_exporter": "python",
   "pygments_lexer": "ipython3",
   "version": "3.6.1"
  }
 },
 "nbformat": 4,
 "nbformat_minor": 2
}
